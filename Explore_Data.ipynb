{
 "cells": [
  {
   "cell_type": "code",
   "execution_count": 43,
   "metadata": {},
   "outputs": [],
   "source": [
    "import pandas as pd\n",
    "pd.set_option('display.max_rows', 500)\n",
    "pd.set_option('display.max_columns', 500)\n",
    "pd.set_option('display.width', 1000)\n",
    "pd.set_option('max_colwidth', None)"
   ]
  },
  {
   "cell_type": "code",
   "execution_count": 6,
   "metadata": {},
   "outputs": [],
   "source": [
    "train_file_path = \"train.jsonl\""
   ]
  },
  {
   "cell_type": "code",
   "execution_count": 7,
   "metadata": {},
   "outputs": [],
   "source": [
    "df = pd.read_json(train_file_path, lines=True)"
   ]
  },
  {
   "cell_type": "code",
   "execution_count": 9,
   "metadata": {},
   "outputs": [
    {
     "data": {
      "text/html": [
       "<div>\n",
       "<style scoped>\n",
       "    .dataframe tbody tr th:only-of-type {\n",
       "        vertical-align: middle;\n",
       "    }\n",
       "\n",
       "    .dataframe tbody tr th {\n",
       "        vertical-align: top;\n",
       "    }\n",
       "\n",
       "    .dataframe thead th {\n",
       "        text-align: right;\n",
       "    }\n",
       "</style>\n",
       "<table border=\"1\" class=\"dataframe\">\n",
       "  <thead>\n",
       "    <tr style=\"text-align: right;\">\n",
       "      <th></th>\n",
       "      <th>id</th>\n",
       "      <th>img</th>\n",
       "      <th>label</th>\n",
       "      <th>text</th>\n",
       "    </tr>\n",
       "  </thead>\n",
       "  <tbody>\n",
       "    <tr>\n",
       "      <th>0</th>\n",
       "      <td>42953</td>\n",
       "      <td>img/42953.png</td>\n",
       "      <td>0</td>\n",
       "      <td>its their character not their color that matters</td>\n",
       "    </tr>\n",
       "    <tr>\n",
       "      <th>1</th>\n",
       "      <td>23058</td>\n",
       "      <td>img/23058.png</td>\n",
       "      <td>0</td>\n",
       "      <td>don't be afraid to love again everyone is not ...</td>\n",
       "    </tr>\n",
       "    <tr>\n",
       "      <th>2</th>\n",
       "      <td>13894</td>\n",
       "      <td>img/13894.png</td>\n",
       "      <td>0</td>\n",
       "      <td>putting bows on your pet</td>\n",
       "    </tr>\n",
       "    <tr>\n",
       "      <th>3</th>\n",
       "      <td>37408</td>\n",
       "      <td>img/37408.png</td>\n",
       "      <td>0</td>\n",
       "      <td>i love everything and everybody! except for sq...</td>\n",
       "    </tr>\n",
       "    <tr>\n",
       "      <th>4</th>\n",
       "      <td>82403</td>\n",
       "      <td>img/82403.png</td>\n",
       "      <td>0</td>\n",
       "      <td>everybody loves chocolate chip cookies, even h...</td>\n",
       "    </tr>\n",
       "  </tbody>\n",
       "</table>\n",
       "</div>"
      ],
      "text/plain": [
       "      id            img  label  \\\n",
       "0  42953  img/42953.png      0   \n",
       "1  23058  img/23058.png      0   \n",
       "2  13894  img/13894.png      0   \n",
       "3  37408  img/37408.png      0   \n",
       "4  82403  img/82403.png      0   \n",
       "\n",
       "                                                text  \n",
       "0   its their character not their color that matters  \n",
       "1  don't be afraid to love again everyone is not ...  \n",
       "2                           putting bows on your pet  \n",
       "3  i love everything and everybody! except for sq...  \n",
       "4  everybody loves chocolate chip cookies, even h...  "
      ]
     },
     "execution_count": 9,
     "metadata": {},
     "output_type": "execute_result"
    }
   ],
   "source": [
    "df.head()"
   ]
  },
  {
   "cell_type": "code",
   "execution_count": 32,
   "metadata": {},
   "outputs": [],
   "source": [
    "df[\"text_len\"] = df.text.apply(lambda x: len(str(x)))"
   ]
  },
  {
   "cell_type": "code",
   "execution_count": 45,
   "metadata": {},
   "outputs": [
    {
     "data": {
      "text/html": [
       "<div>\n",
       "<style scoped>\n",
       "    .dataframe tbody tr th:only-of-type {\n",
       "        vertical-align: middle;\n",
       "    }\n",
       "\n",
       "    .dataframe tbody tr th {\n",
       "        vertical-align: top;\n",
       "    }\n",
       "\n",
       "    .dataframe thead th {\n",
       "        text-align: right;\n",
       "    }\n",
       "</style>\n",
       "<table border=\"1\" class=\"dataframe\">\n",
       "  <thead>\n",
       "    <tr style=\"text-align: right;\">\n",
       "      <th></th>\n",
       "      <th>id</th>\n",
       "      <th>img</th>\n",
       "      <th>label</th>\n",
       "      <th>text</th>\n",
       "      <th>text_len</th>\n",
       "    </tr>\n",
       "  </thead>\n",
       "  <tbody>\n",
       "    <tr>\n",
       "      <th>476</th>\n",
       "      <td>54817</td>\n",
       "      <td>img/54817.png</td>\n",
       "      <td>1</td>\n",
       "      <td>i had twins with my third husband, which i conceived while married to my first husband, and delivered while married to my second husband, who adopted them before i divorced him and married my third husband. but that was then, now i'm married to my fourth husband. i'm just an evangelical who believes in the sanctity of marriage</td>\n",
       "      <td>328</td>\n",
       "    </tr>\n",
       "    <tr>\n",
       "      <th>1499</th>\n",
       "      <td>64532</td>\n",
       "      <td>img/64532.png</td>\n",
       "      <td>1</td>\n",
       "      <td>these people are not human they look like peope walk and talk like people sort of but they are demonic entities you cannot rationalize this evil in human form they are under the spell of evil and have no emotion about rape, murder, torture rape of children or murdering you. your life means nothing to them get it?? nothing</td>\n",
       "      <td>323</td>\n",
       "    </tr>\n",
       "    <tr>\n",
       "      <th>2671</th>\n",
       "      <td>24038</td>\n",
       "      <td>img/24038.png</td>\n",
       "      <td>0</td>\n",
       "      <td>why do people think it's okay to call babies he or she? they can't speak yet so they can't say their preferred gender please refer to them as babyself or toddlerself until they can say their pronoun preference otherwise you're ableist and transphobic well, there it is the stupidest thing i'll read today</td>\n",
       "      <td>304</td>\n",
       "    </tr>\n",
       "    <tr>\n",
       "      <th>3527</th>\n",
       "      <td>71358</td>\n",
       "      <td>img/71358.png</td>\n",
       "      <td>0</td>\n",
       "      <td>\"nobody is trying to take your guns!\" \"we only want to make you register them, restrict transfers, ban certain guns, limit magazine capacity, prohibit carrying them, ban or limit ammo, make other arbitrary laws, and, if we catch you violating any of these made-up rules, throw you in prison.... at which point we will take your guns!\"</td>\n",
       "      <td>334</td>\n",
       "    </tr>\n",
       "    <tr>\n",
       "      <th>3954</th>\n",
       "      <td>79846</td>\n",
       "      <td>img/79846.png</td>\n",
       "      <td>1</td>\n",
       "      <td>have you ever studied the history of the jews? did you know that they have always banded together as a tribe, infiltrated governments, monopolized the financial systems of nations instigated wars and intentionally created chaos in societies? the jews have mass murdered millions of non- jews over the centuries theyve seized control of the media so you'll never find out study the history of the jews!</td>\n",
       "      <td>401</td>\n",
       "    </tr>\n",
       "    <tr>\n",
       "      <th>4958</th>\n",
       "      <td>10786</td>\n",
       "      <td>img/10786.png</td>\n",
       "      <td>0</td>\n",
       "      <td>president trump accused of sexual assault right before the election clarence thomas accused sexual harassment right before the election right before getting voted in by the senate roy moore accused of sexual assault right before senate election in alabama brett kavanaugh accused of sexual assault right before getting voted in by the senate still convinced that the accusers are telling the truth? bret e macgregor monday at 8:34 pm</td>\n",
       "      <td>433</td>\n",
       "    </tr>\n",
       "    <tr>\n",
       "      <th>6663</th>\n",
       "      <td>7294</td>\n",
       "      <td>img/07294.png</td>\n",
       "      <td>1</td>\n",
       "      <td>bruder you killed me so the jew could control your media so the jews could control your banks so the jews control you money so the jews could control your government so your children could die for israel so foreigners could destroy your cities so foreigners could run your civil and public services so you become a prisoner in your own homes so your people and race are lost forever</td>\n",
       "      <td>382</td>\n",
       "    </tr>\n",
       "    <tr>\n",
       "      <th>7581</th>\n",
       "      <td>84291</td>\n",
       "      <td>img/84291.png</td>\n",
       "      <td>1</td>\n",
       "      <td>housing, free gas, free electricity, free healthcare and free education for my wives and children. to show graditude for your generosity, i'll groom your 12 year old daughters, blow up your trains, planes and buses and preach hate through a dawah stall in your local city and town centres with the purpose of turning your generous country into the same shithole i originally took refuge from, allahu akbar!</td>\n",
       "      <td>406</td>\n",
       "    </tr>\n",
       "    <tr>\n",
       "      <th>8242</th>\n",
       "      <td>92806</td>\n",
       "      <td>img/92806.png</td>\n",
       "      <td>0</td>\n",
       "      <td>i guess it's all ok to demand that president trump release his taxes i received $16 billion in 2018 to fix my rat infested shithole district in west baltimore and i never did it.. asking me where the money disappeared to, makes you all a bunch of racists!!!! but i guess it's not ok to ask this guy what he did with baltimore's money</td>\n",
       "      <td>333</td>\n",
       "    </tr>\n",
       "  </tbody>\n",
       "</table>\n",
       "</div>"
      ],
      "text/plain": [
       "         id            img  label                                                                                                                                                                                                                                                                                                                                                                                                                                               text  text_len\n",
       "476   54817  img/54817.png      1                                                                                                           i had twins with my third husband, which i conceived while married to my first husband, and delivered while married to my second husband, who adopted them before i divorced him and married my third husband. but that was then, now i'm married to my fourth husband. i'm just an evangelical who believes in the sanctity of marriage       328\n",
       "1499  64532  img/64532.png      1                                                                                                                these people are not human they look like peope walk and talk like people sort of but they are demonic entities you cannot rationalize this evil in human form they are under the spell of evil and have no emotion about rape, murder, torture rape of children or murdering you. your life means nothing to them get it?? nothing       323\n",
       "2671  24038  img/24038.png      0                                                                                                                                   why do people think it's okay to call babies he or she? they can't speak yet so they can't say their preferred gender please refer to them as babyself or toddlerself until they can say their pronoun preference otherwise you're ableist and transphobic well, there it is the stupidest thing i'll read today       304\n",
       "3527  71358  img/71358.png      0                                                                                                     \"nobody is trying to take your guns!\" \"we only want to make you register them, restrict transfers, ban certain guns, limit magazine capacity, prohibit carrying them, ban or limit ammo, make other arbitrary laws, and, if we catch you violating any of these made-up rules, throw you in prison.... at which point we will take your guns!\"       334\n",
       "3954  79846  img/79846.png      1                                  have you ever studied the history of the jews? did you know that they have always banded together as a tribe, infiltrated governments, monopolized the financial systems of nations instigated wars and intentionally created chaos in societies? the jews have mass murdered millions of non- jews over the centuries theyve seized control of the media so you'll never find out study the history of the jews!       401\n",
       "4958  10786  img/10786.png      0  president trump accused of sexual assault right before the election clarence thomas accused sexual harassment right before the election right before getting voted in by the senate roy moore accused of sexual assault right before senate election in alabama brett kavanaugh accused of sexual assault right before getting voted in by the senate still convinced that the accusers are telling the truth? bret e macgregor monday at 8:34 pm       433\n",
       "6663   7294  img/07294.png      1                                                     bruder you killed me so the jew could control your media so the jews could control your banks so the jews control you money so the jews could control your government so your children could die for israel so foreigners could destroy your cities so foreigners could run your civil and public services so you become a prisoner in your own homes so your people and race are lost forever       382\n",
       "7581  84291  img/84291.png      1                             housing, free gas, free electricity, free healthcare and free education for my wives and children. to show graditude for your generosity, i'll groom your 12 year old daughters, blow up your trains, planes and buses and preach hate through a dawah stall in your local city and town centres with the purpose of turning your generous country into the same shithole i originally took refuge from, allahu akbar!       406\n",
       "8242  92806  img/92806.png      0                                                                                                      i guess it's all ok to demand that president trump release his taxes i received $16 billion in 2018 to fix my rat infested shithole district in west baltimore and i never did it.. asking me where the money disappeared to, makes you all a bunch of racists!!!! but i guess it's not ok to ask this guy what he did with baltimore's money       333"
      ]
     },
     "execution_count": 45,
     "metadata": {},
     "output_type": "execute_result"
    }
   ],
   "source": [
    "df[df.text_len >= 300]"
   ]
  },
  {
   "cell_type": "code",
   "execution_count": 46,
   "metadata": {},
   "outputs": [
    {
     "name": "stdout",
     "output_type": "stream",
     "text": [
      "<class 'pandas.core.frame.DataFrame'>\n",
      "RangeIndex: 8500 entries, 0 to 8499\n",
      "Data columns (total 5 columns):\n",
      " #   Column    Non-Null Count  Dtype \n",
      "---  ------    --------------  ----- \n",
      " 0   id        8500 non-null   int64 \n",
      " 1   img       8500 non-null   object\n",
      " 2   label     8500 non-null   int64 \n",
      " 3   text      8500 non-null   object\n",
      " 4   text_len  8500 non-null   int64 \n",
      "dtypes: int64(3), object(2)\n",
      "memory usage: 332.2+ KB\n"
     ]
    }
   ],
   "source": [
    "df.info()"
   ]
  },
  {
   "cell_type": "code",
   "execution_count": 48,
   "metadata": {},
   "outputs": [],
   "source": [
    "df_test = pd.read_json(\"dev.jsonl\", lines=True)"
   ]
  },
  {
   "cell_type": "code",
   "execution_count": 49,
   "metadata": {},
   "outputs": [
    {
     "data": {
      "text/html": [
       "<div>\n",
       "<style scoped>\n",
       "    .dataframe tbody tr th:only-of-type {\n",
       "        vertical-align: middle;\n",
       "    }\n",
       "\n",
       "    .dataframe tbody tr th {\n",
       "        vertical-align: top;\n",
       "    }\n",
       "\n",
       "    .dataframe thead th {\n",
       "        text-align: right;\n",
       "    }\n",
       "</style>\n",
       "<table border=\"1\" class=\"dataframe\">\n",
       "  <thead>\n",
       "    <tr style=\"text-align: right;\">\n",
       "      <th></th>\n",
       "      <th>id</th>\n",
       "      <th>img</th>\n",
       "      <th>label</th>\n",
       "      <th>text</th>\n",
       "    </tr>\n",
       "  </thead>\n",
       "  <tbody>\n",
       "    <tr>\n",
       "      <th>0</th>\n",
       "      <td>8291</td>\n",
       "      <td>img/08291.png</td>\n",
       "      <td>1</td>\n",
       "      <td>white people is this a shooting range</td>\n",
       "    </tr>\n",
       "    <tr>\n",
       "      <th>1</th>\n",
       "      <td>46971</td>\n",
       "      <td>img/46971.png</td>\n",
       "      <td>1</td>\n",
       "      <td>bravery at its finest</td>\n",
       "    </tr>\n",
       "    <tr>\n",
       "      <th>2</th>\n",
       "      <td>3745</td>\n",
       "      <td>img/03745.png</td>\n",
       "      <td>1</td>\n",
       "      <td>your order comes to $37.50 and your white privilege discount brings the total to $37.50</td>\n",
       "    </tr>\n",
       "    <tr>\n",
       "      <th>3</th>\n",
       "      <td>83745</td>\n",
       "      <td>img/83745.png</td>\n",
       "      <td>1</td>\n",
       "      <td>it is time.. to send these parasites back to the desert</td>\n",
       "    </tr>\n",
       "    <tr>\n",
       "      <th>4</th>\n",
       "      <td>80243</td>\n",
       "      <td>img/80243.png</td>\n",
       "      <td>1</td>\n",
       "      <td>mississippi wind chime</td>\n",
       "    </tr>\n",
       "  </tbody>\n",
       "</table>\n",
       "</div>"
      ],
      "text/plain": [
       "      id            img  label                                                                                     text\n",
       "0   8291  img/08291.png      1                                                    white people is this a shooting range\n",
       "1  46971  img/46971.png      1                                                                    bravery at its finest\n",
       "2   3745  img/03745.png      1  your order comes to $37.50 and your white privilege discount brings the total to $37.50\n",
       "3  83745  img/83745.png      1                                  it is time.. to send these parasites back to the desert\n",
       "4  80243  img/80243.png      1                                                                   mississippi wind chime"
      ]
     },
     "execution_count": 49,
     "metadata": {},
     "output_type": "execute_result"
    }
   ],
   "source": [
    "df_test.head()"
   ]
  },
  {
   "cell_type": "code",
   "execution_count": 53,
   "metadata": {},
   "outputs": [
    {
     "data": {
      "text/plain": [
       "(35, 5)"
      ]
     },
     "execution_count": 53,
     "metadata": {},
     "output_type": "execute_result"
    }
   ],
   "source": [
    "df[df.id <= 1483].shape"
   ]
  },
  {
   "cell_type": "code",
   "execution_count": null,
   "metadata": {},
   "outputs": [],
   "source": []
  }
 ],
 "metadata": {
  "kernelspec": {
   "display_name": "Python 3",
   "language": "python",
   "name": "python3"
  },
  "language_info": {
   "codemirror_mode": {
    "name": "ipython",
    "version": 3
   },
   "file_extension": ".py",
   "mimetype": "text/x-python",
   "name": "python",
   "nbconvert_exporter": "python",
   "pygments_lexer": "ipython3",
   "version": "3.6.9"
  }
 },
 "nbformat": 4,
 "nbformat_minor": 2
}
