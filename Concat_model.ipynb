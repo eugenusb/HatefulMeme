{
  "nbformat": 4,
  "nbformat_minor": 0,
  "metadata": {
    "colab": {
      "name": "Concat_model.ipynb",
      "provenance": [],
      "collapsed_sections": []
    },
    "kernelspec": {
      "name": "python3",
      "display_name": "Python 3"
    },
    "widgets": {
      "application/vnd.jupyter.widget-state+json": {
        "e2982be72d34449483f7a6cb20c3f635": {
          "model_module": "@jupyter-widgets/controls",
          "model_name": "HBoxModel",
          "state": {
            "_view_name": "HBoxView",
            "_dom_classes": [],
            "_model_name": "HBoxModel",
            "_view_module": "@jupyter-widgets/controls",
            "_model_module_version": "1.5.0",
            "_view_count": null,
            "_view_module_version": "1.5.0",
            "box_style": "",
            "layout": "IPY_MODEL_06c5e0de5888430880ed0114fcfa9fac",
            "_model_module": "@jupyter-widgets/controls",
            "children": [
              "IPY_MODEL_7f609d9faa164d24b6b102a2e7efa5d6",
              "IPY_MODEL_3ebb0b0e0c2d42dca8e40519844e6f42"
            ]
          }
        },
        "06c5e0de5888430880ed0114fcfa9fac": {
          "model_module": "@jupyter-widgets/base",
          "model_name": "LayoutModel",
          "state": {
            "_view_name": "LayoutView",
            "grid_template_rows": null,
            "right": null,
            "justify_content": null,
            "_view_module": "@jupyter-widgets/base",
            "overflow": null,
            "_model_module_version": "1.2.0",
            "_view_count": null,
            "flex_flow": null,
            "width": null,
            "min_width": null,
            "border": null,
            "align_items": null,
            "bottom": null,
            "_model_module": "@jupyter-widgets/base",
            "top": null,
            "grid_column": null,
            "overflow_y": null,
            "overflow_x": null,
            "grid_auto_flow": null,
            "grid_area": null,
            "grid_template_columns": null,
            "flex": null,
            "_model_name": "LayoutModel",
            "justify_items": null,
            "grid_row": null,
            "max_height": null,
            "align_content": null,
            "visibility": null,
            "align_self": null,
            "height": null,
            "min_height": null,
            "padding": null,
            "grid_auto_rows": null,
            "grid_gap": null,
            "max_width": null,
            "order": null,
            "_view_module_version": "1.2.0",
            "grid_template_areas": null,
            "object_position": null,
            "object_fit": null,
            "grid_auto_columns": null,
            "margin": null,
            "display": null,
            "left": null
          }
        },
        "7f609d9faa164d24b6b102a2e7efa5d6": {
          "model_module": "@jupyter-widgets/controls",
          "model_name": "FloatProgressModel",
          "state": {
            "_view_name": "ProgressView",
            "style": "IPY_MODEL_29e88ac7af264f41bb3ac20d04da7105",
            "_dom_classes": [],
            "description": "Downloading: 100%",
            "_model_name": "FloatProgressModel",
            "bar_style": "success",
            "max": 231508,
            "_view_module": "@jupyter-widgets/controls",
            "_model_module_version": "1.5.0",
            "value": 231508,
            "_view_count": null,
            "_view_module_version": "1.5.0",
            "orientation": "horizontal",
            "min": 0,
            "description_tooltip": null,
            "_model_module": "@jupyter-widgets/controls",
            "layout": "IPY_MODEL_d63808ceb6f24731b130887c3d693bf4"
          }
        },
        "3ebb0b0e0c2d42dca8e40519844e6f42": {
          "model_module": "@jupyter-widgets/controls",
          "model_name": "HTMLModel",
          "state": {
            "_view_name": "HTMLView",
            "style": "IPY_MODEL_c759007a45e94f56b645e625a6f54ba4",
            "_dom_classes": [],
            "description": "",
            "_model_name": "HTMLModel",
            "placeholder": "​",
            "_view_module": "@jupyter-widgets/controls",
            "_model_module_version": "1.5.0",
            "value": " 232k/232k [00:00&lt;00:00, 759kB/s]",
            "_view_count": null,
            "_view_module_version": "1.5.0",
            "description_tooltip": null,
            "_model_module": "@jupyter-widgets/controls",
            "layout": "IPY_MODEL_b498d6e5ed7143bb96fe02a2f25e7150"
          }
        },
        "29e88ac7af264f41bb3ac20d04da7105": {
          "model_module": "@jupyter-widgets/controls",
          "model_name": "ProgressStyleModel",
          "state": {
            "_view_name": "StyleView",
            "_model_name": "ProgressStyleModel",
            "description_width": "initial",
            "_view_module": "@jupyter-widgets/base",
            "_model_module_version": "1.5.0",
            "_view_count": null,
            "_view_module_version": "1.2.0",
            "bar_color": null,
            "_model_module": "@jupyter-widgets/controls"
          }
        },
        "d63808ceb6f24731b130887c3d693bf4": {
          "model_module": "@jupyter-widgets/base",
          "model_name": "LayoutModel",
          "state": {
            "_view_name": "LayoutView",
            "grid_template_rows": null,
            "right": null,
            "justify_content": null,
            "_view_module": "@jupyter-widgets/base",
            "overflow": null,
            "_model_module_version": "1.2.0",
            "_view_count": null,
            "flex_flow": null,
            "width": null,
            "min_width": null,
            "border": null,
            "align_items": null,
            "bottom": null,
            "_model_module": "@jupyter-widgets/base",
            "top": null,
            "grid_column": null,
            "overflow_y": null,
            "overflow_x": null,
            "grid_auto_flow": null,
            "grid_area": null,
            "grid_template_columns": null,
            "flex": null,
            "_model_name": "LayoutModel",
            "justify_items": null,
            "grid_row": null,
            "max_height": null,
            "align_content": null,
            "visibility": null,
            "align_self": null,
            "height": null,
            "min_height": null,
            "padding": null,
            "grid_auto_rows": null,
            "grid_gap": null,
            "max_width": null,
            "order": null,
            "_view_module_version": "1.2.0",
            "grid_template_areas": null,
            "object_position": null,
            "object_fit": null,
            "grid_auto_columns": null,
            "margin": null,
            "display": null,
            "left": null
          }
        },
        "c759007a45e94f56b645e625a6f54ba4": {
          "model_module": "@jupyter-widgets/controls",
          "model_name": "DescriptionStyleModel",
          "state": {
            "_view_name": "StyleView",
            "_model_name": "DescriptionStyleModel",
            "description_width": "",
            "_view_module": "@jupyter-widgets/base",
            "_model_module_version": "1.5.0",
            "_view_count": null,
            "_view_module_version": "1.2.0",
            "_model_module": "@jupyter-widgets/controls"
          }
        },
        "b498d6e5ed7143bb96fe02a2f25e7150": {
          "model_module": "@jupyter-widgets/base",
          "model_name": "LayoutModel",
          "state": {
            "_view_name": "LayoutView",
            "grid_template_rows": null,
            "right": null,
            "justify_content": null,
            "_view_module": "@jupyter-widgets/base",
            "overflow": null,
            "_model_module_version": "1.2.0",
            "_view_count": null,
            "flex_flow": null,
            "width": null,
            "min_width": null,
            "border": null,
            "align_items": null,
            "bottom": null,
            "_model_module": "@jupyter-widgets/base",
            "top": null,
            "grid_column": null,
            "overflow_y": null,
            "overflow_x": null,
            "grid_auto_flow": null,
            "grid_area": null,
            "grid_template_columns": null,
            "flex": null,
            "_model_name": "LayoutModel",
            "justify_items": null,
            "grid_row": null,
            "max_height": null,
            "align_content": null,
            "visibility": null,
            "align_self": null,
            "height": null,
            "min_height": null,
            "padding": null,
            "grid_auto_rows": null,
            "grid_gap": null,
            "max_width": null,
            "order": null,
            "_view_module_version": "1.2.0",
            "grid_template_areas": null,
            "object_position": null,
            "object_fit": null,
            "grid_auto_columns": null,
            "margin": null,
            "display": null,
            "left": null
          }
        }
      }
    },
    "accelerator": "GPU"
  },
  "cells": [
    {
      "cell_type": "code",
      "metadata": {
        "id": "gHfIKga45lJU",
        "colab_type": "code",
        "colab": {}
      },
      "source": [
        "import tensorflow as tf\n",
        "import pandas as pd\n",
        "import numpy as np\n",
        "\n",
        "!pip install -q transformers tensorflow_datasets\n",
        "from transformers import TFBertModel, BertTokenizer, TFBertForSequenceClassification\n",
        "\n",
        "from tensorflow.keras.applications.inception_v3 import InceptionV3\n",
        "from tensorflow.keras.preprocessing import image"
      ],
      "execution_count": 9,
      "outputs": []
    },
    {
      "cell_type": "code",
      "metadata": {
        "id": "FeYmlhK8m6Zb",
        "colab_type": "code",
        "colab": {}
      },
      "source": [
        "# load dataset (text only)\n",
        "\n",
        "train_folder = '/content/drive/My Drive/Datasets/'\n",
        "\n",
        "train_filepath = \"/content/drive/My Drive/Datasets/train.jsonl\"\n",
        "df_train = pd.read_json(train_filepath, lines=True)"
      ],
      "execution_count": 2,
      "outputs": []
    },
    {
      "cell_type": "code",
      "metadata": {
        "id": "-9_o8Ui_pPnN",
        "colab_type": "code",
        "colab": {}
      },
      "source": [
        "# load test\n",
        "\n",
        "validation_filepath = \"/content/drive/My Drive/Datasets/dev.jsonl\"\n",
        "df_validation = pd.read_json(validation_filepath, lines=True)"
      ],
      "execution_count": 3,
      "outputs": []
    },
    {
      "cell_type": "code",
      "metadata": {
        "id": "Yd1hy6B6j1ZC",
        "colab_type": "code",
        "colab": {}
      },
      "source": [
        "# for debugging\n",
        "\n",
        "df_mini_train = df_train[df_train.id <= 1483]"
      ],
      "execution_count": 4,
      "outputs": []
    },
    {
      "cell_type": "code",
      "metadata": {
        "id": "OklDlK24nU2A",
        "colab_type": "code",
        "colab": {}
      },
      "source": [
        "# set max_length and batch size (recommended for BERT fine-tuning)\n",
        "\n",
        "max_length = 320\n",
        "batch_size = 14"
      ],
      "execution_count": 5,
      "outputs": []
    },
    {
      "cell_type": "code",
      "metadata": {
        "id": "uKB-Qu4yO8zi",
        "colab_type": "code",
        "colab": {
          "base_uri": "https://localhost:8080/",
          "height": 67,
          "referenced_widgets": [
            "e2982be72d34449483f7a6cb20c3f635",
            "06c5e0de5888430880ed0114fcfa9fac",
            "7f609d9faa164d24b6b102a2e7efa5d6",
            "3ebb0b0e0c2d42dca8e40519844e6f42",
            "29e88ac7af264f41bb3ac20d04da7105",
            "d63808ceb6f24731b130887c3d693bf4",
            "c759007a45e94f56b645e625a6f54ba4",
            "b498d6e5ed7143bb96fe02a2f25e7150"
          ]
        },
        "outputId": "ccdf924c-914b-41ea-818b-8d3a041290c5"
      },
      "source": [
        "# tokenize and encode text for BERT\n",
        "\n",
        "tokenizer = BertTokenizer.from_pretrained('bert-base-uncased', do_lower_case=True)\n",
        "\n",
        "def convert_example_to_feature(meme):\n",
        "  return tokenizer.encode_plus(meme, \n",
        "                add_special_tokens = True, # add [CLS], [SEP]\n",
        "                max_length = max_length, # max length of the text that can go to BERT\n",
        "                pad_to_max_length = True, # add [PAD] tokens\n",
        "                return_attention_mask = True, # add attention mask to not focus on pad tokens\n",
        "                truncation = True\n",
        "              )\n",
        "\n",
        "# prepare dataset for the model, of shape {input_ids, token_type_ids, attention_mask, img}\n",
        "  \n",
        "def map_example_to_dict(input_ids, attention_masks, token_type_ids, img_arr, label):\n",
        "  return {\n",
        "      \"input_ids\": input_ids,\n",
        "      \"token_type_ids\": token_type_ids,\n",
        "      \"attention_mask\": attention_masks,\n",
        "      \"image_input\": img_arr,\n",
        "  }, label\n",
        "\n",
        "def encode_examples(df):\n",
        "\n",
        "  input_ids_list = []\n",
        "  token_type_ids_list = []\n",
        "  attention_mask_list = []\n",
        "  image_list = []\n",
        "  label_list = []\n",
        "    \n",
        "  for index, row in df.iterrows():\n",
        "\n",
        "    meme = row.text \n",
        "    label = int(row.label)\n",
        "    bert_input = convert_example_to_feature(meme)\n",
        "    img_loc = row.img\n",
        "    img_arr = image.img_to_array(image.load_img(train_folder + img_loc, target_size=(299, 299))).astype(np.float32)\n",
        "\n",
        "    input_ids_list.append(bert_input['input_ids'])\n",
        "    token_type_ids_list.append(bert_input['token_type_ids'])\n",
        "    attention_mask_list.append(bert_input['attention_mask'])\n",
        "    image_list.append(img_arr)\n",
        "    label_list.append([label])\n",
        "\n",
        "  return tf.data.Dataset.from_tensor_slices((input_ids_list, attention_mask_list, token_type_ids_list, image_list, label_list)).map(map_example_to_dict)"
      ],
      "execution_count": 6,
      "outputs": [
        {
          "output_type": "display_data",
          "data": {
            "application/vnd.jupyter.widget-view+json": {
              "model_id": "e2982be72d34449483f7a6cb20c3f635",
              "version_minor": 0,
              "version_major": 2
            },
            "text/plain": [
              "HBox(children=(FloatProgress(value=0.0, description='Downloading', max=231508.0, style=ProgressStyle(descripti…"
            ]
          },
          "metadata": {
            "tags": []
          }
        },
        {
          "output_type": "stream",
          "text": [
            "\n"
          ],
          "name": "stdout"
        }
      ]
    },
    {
      "cell_type": "code",
      "metadata": {
        "id": "mGseFnPPC1QI",
        "colab_type": "code",
        "colab": {}
      },
      "source": [
        "ds_mini_train_encoded = encode_examples(df_mini_train).batch(batch_size)\n",
        "#ds_train_encoded = encode_examples(df_train).shuffle(3000).batch(batch_size)\n",
        "#ds_test_encoded = encode_examples(df_validation).batch(batch_size)"
      ],
      "execution_count": 7,
      "outputs": []
    },
    {
      "cell_type": "code",
      "metadata": {
        "id": "7QR3UACrDjlR",
        "colab_type": "code",
        "colab": {
          "base_uri": "https://localhost:8080/",
          "height": 808
        },
        "outputId": "877fbd1f-5676-4c58-d5b7-d0c4addcd0ec"
      },
      "source": [
        "# create concatenated model\n",
        "\n",
        "# input layers for BERT model\n",
        "\n",
        "input_ids = tf.keras.layers.Input(shape=(max_length,), name='input_ids', dtype=tf.int32)\n",
        "token_type_ids = tf.keras.layers.Input(shape=(max_length,), name='token_type_ids', dtype=tf.int32)\n",
        "attention_mask = tf.keras.layers.Input(shape=(max_length,), name='attention_mask', dtype=tf.int32)\n",
        "\n",
        "# load BERT model\n",
        "\n",
        "text_model = TFBertModel.from_pretrained(\"bert-base-uncased\")\n",
        "\n",
        "# create output of BERT\n",
        "\n",
        "bert_out = text_model(inputs = {\"input_ids\": input_ids, \"token_type_ids\" : token_type_ids, \"attention_mask\": attention_mask})[0]\n",
        "\n",
        "# input layer for Inception V3 model\n",
        "\n",
        "input_tensor = tf.keras.layers.Input(shape=(299,299,3,), name='image_input', dtype=tf.float32)\n",
        "\n",
        "# create output of Inception V3\n",
        "\n",
        "model_image = InceptionV3(input_tensor=input_tensor, weights='imagenet', include_top=False)\n",
        "image_out = model_image(input_tensor)\n",
        "inception_out = tf.keras.layers.GlobalAveragePooling2D()(image_out)\n",
        "\n",
        "# concatenate both outputs\n",
        "\n",
        "concatenated = tf.keras.layers.Concatenate(axis=1)([bert_out[:,0,:], inception_out])\n",
        "\n",
        "# connect to fully connected layer\n",
        "\n",
        "full = tf.keras.layers.Dense(1024, activation='relu', name='full_layer')(concatenated)\n",
        "\n",
        "# dropout 20% of neurons\n",
        "\n",
        "dropout = tf.keras.layers.Dropout(0.2)(full)\n",
        "\n",
        "# classifier layer\n",
        "\n",
        "out = tf.keras.layers.Dense(2, activation='softmax', name='classifier')(dropout)\n",
        "\n",
        "# freeze the layers corresponding to the pretrained models\n",
        "\n",
        "text_model.trainable = False\n",
        "for layer in model_image.layers:\n",
        "    layer.trainable = False\n",
        "\n",
        "# define and compile model\n",
        "\n",
        "model = tf.keras.Model(inputs=[input_ids, token_type_ids, attention_mask, input_tensor],\n",
        "                       outputs=out)\n",
        "\n",
        "optimizer = tf.keras.optimizers.Adam(learning_rate=1e-4)\n",
        "loss = tf.keras.losses.SparseCategoricalCrossentropy(from_logits=True)\n",
        "metric = tf.keras.metrics.SparseCategoricalAccuracy('accuracy')\n",
        "\n",
        "model.compile(optimizer=optimizer, loss=loss, metrics=[metric])\n",
        "\n",
        "# show model variables\n",
        "\n",
        "model.summary()"
      ],
      "execution_count": 10,
      "outputs": [
        {
          "output_type": "stream",
          "text": [
            "Some weights of the model checkpoint at bert-base-uncased were not used when initializing TFBertModel: ['mlm___cls', 'nsp___cls']\n",
            "- This IS expected if you are initializing TFBertModel from the checkpoint of a model trained on another task or with another architecture (e.g. initializing a BertForSequenceClassification model from a BertForPretraining model).\n",
            "- This IS NOT expected if you are initializing TFBertModel from the checkpoint of a model that you expect to be exactly identical (initializing a BertForSequenceClassification model from a BertForSequenceClassification model).\n",
            "All the weights of TFBertModel were initialized from the model checkpoint at bert-base-uncased.\n",
            "If your task is similar to the task the model of the ckeckpoint was trained on, you can already use TFBertModel for predictions without further training.\n"
          ],
          "name": "stderr"
        },
        {
          "output_type": "stream",
          "text": [
            "Downloading data from https://storage.googleapis.com/tensorflow/keras-applications/inception_v3/inception_v3_weights_tf_dim_ordering_tf_kernels_notop.h5\n",
            "87916544/87910968 [==============================] - 1s 0us/step\n",
            "Model: \"functional_1\"\n",
            "__________________________________________________________________________________________________\n",
            "Layer (type)                    Output Shape         Param #     Connected to                     \n",
            "==================================================================================================\n",
            "attention_mask (InputLayer)     [(None, 320)]        0                                            \n",
            "__________________________________________________________________________________________________\n",
            "input_ids (InputLayer)          [(None, 320)]        0                                            \n",
            "__________________________________________________________________________________________________\n",
            "token_type_ids (InputLayer)     [(None, 320)]        0                                            \n",
            "__________________________________________________________________________________________________\n",
            "image_input (InputLayer)        [(None, 299, 299, 3) 0                                            \n",
            "__________________________________________________________________________________________________\n",
            "tf_bert_model_1 (TFBertModel)   ((None, 320, 768), ( 109482240   attention_mask[0][0]             \n",
            "                                                                 input_ids[0][0]                  \n",
            "                                                                 token_type_ids[0][0]             \n",
            "__________________________________________________________________________________________________\n",
            "inception_v3 (Functional)       (None, 8, 8, 2048)   21802784    image_input[0][0]                \n",
            "__________________________________________________________________________________________________\n",
            "tf_op_layer_strided_slice (Tens [(None, 768)]        0           tf_bert_model_1[0][0]            \n",
            "__________________________________________________________________________________________________\n",
            "global_average_pooling2d (Globa (None, 2048)         0           inception_v3[0][0]               \n",
            "__________________________________________________________________________________________________\n",
            "concatenate_2 (Concatenate)     (None, 2816)         0           tf_op_layer_strided_slice[0][0]  \n",
            "                                                                 global_average_pooling2d[0][0]   \n",
            "__________________________________________________________________________________________________\n",
            "full_layer (Dense)              (None, 1024)         2884608     concatenate_2[0][0]              \n",
            "__________________________________________________________________________________________________\n",
            "dropout_74 (Dropout)            (None, 1024)         0           full_layer[0][0]                 \n",
            "__________________________________________________________________________________________________\n",
            "classifier (Dense)              (None, 2)            2050        dropout_74[0][0]                 \n",
            "==================================================================================================\n",
            "Total params: 134,171,682\n",
            "Trainable params: 2,886,658\n",
            "Non-trainable params: 131,285,024\n",
            "__________________________________________________________________________________________________\n"
          ],
          "name": "stdout"
        }
      ]
    },
    {
      "cell_type": "code",
      "metadata": {
        "id": "325I0Vd8JEGu",
        "colab_type": "code",
        "colab": {
          "base_uri": "https://localhost:8080/",
          "height": 525
        },
        "outputId": "308a98d0-0a12-42cb-e019-5d0bf2fe5887"
      },
      "source": [
        "# plot model\n",
        "\n",
        "tf.keras.utils.plot_model(model, show_shapes=True)"
      ],
      "execution_count": 11,
      "outputs": [
        {
          "output_type": "execute_result",
          "data": {
            "image/png": "[encoded data removed]",
            "text/plain": [
              "<IPython.core.display.Image object>"
            ]
          },
          "metadata": {
            "tags": []
          },
          "execution_count": 11
        }
      ]
    },
    {
      "cell_type": "code",
      "metadata": {
        "id": "xK3Ikf1SaxC6",
        "colab_type": "code",
        "colab": {
          "base_uri": "https://localhost:8080/",
          "height": 403
        },
        "outputId": "2fee00e7-1f29-4b29-bd0b-c7818a53d7a2"
      },
      "source": [
        "epochs = 10\n",
        "model.fit(ds_mini_train_encoded, epochs=epochs)\n",
        "#train_history = model.fit(ds_train_encoded, epochs=epochs, validation_data=ds_test_encoded)"
      ],
      "execution_count": 12,
      "outputs": [
        {
          "output_type": "stream",
          "text": [
            "Epoch 1/10\n",
            "3/3 [==============================] - 1s 245ms/step - loss: 0.8478 - accuracy: 0.4286\n",
            "Epoch 2/10\n",
            "3/3 [==============================] - 0s 137ms/step - loss: 0.6561 - accuracy: 0.6571\n",
            "Epoch 3/10\n",
            "3/3 [==============================] - 0s 132ms/step - loss: 0.6561 - accuracy: 0.6571\n",
            "Epoch 4/10\n",
            "3/3 [==============================] - 0s 131ms/step - loss: 0.6561 - accuracy: 0.6571\n",
            "Epoch 5/10\n",
            "3/3 [==============================] - 0s 133ms/step - loss: 0.6561 - accuracy: 0.6571\n",
            "Epoch 6/10\n",
            "3/3 [==============================] - 0s 134ms/step - loss: 0.6561 - accuracy: 0.6571\n",
            "Epoch 7/10\n",
            "3/3 [==============================] - 0s 134ms/step - loss: 0.6561 - accuracy: 0.6571\n",
            "Epoch 8/10\n",
            "3/3 [==============================] - 0s 132ms/step - loss: 0.6561 - accuracy: 0.6571\n",
            "Epoch 9/10\n",
            "3/3 [==============================] - 0s 134ms/step - loss: 0.6561 - accuracy: 0.6571\n",
            "Epoch 10/10\n",
            "3/3 [==============================] - 0s 131ms/step - loss: 0.6561 - accuracy: 0.6571\n"
          ],
          "name": "stdout"
        },
        {
          "output_type": "execute_result",
          "data": {
            "text/plain": [
              "<tensorflow.python.keras.callbacks.History at 0x7f04f7b0e4a8>"
            ]
          },
          "metadata": {
            "tags": []
          },
          "execution_count": 12
        }
      ]
    },
    {
      "cell_type": "code",
      "metadata": {
        "id": "1xJxhcOTwpLh",
        "colab_type": "code",
        "colab": {}
      },
      "source": [
        "# fine-tune the model\n",
        "\n",
        "# unfreeze the pretrained layers\n",
        "\n",
        "text_model.trainable = True\n",
        "for layer in model_image.layers:\n",
        "    layer.trainable = True\n",
        "\n",
        "# recompile the model, with a smaller learning rate\n",
        "\n",
        "learning_rate = 1e-06\n",
        "optimizer = tf.keras.optimizers.Adam(learning_rate=learning_rate)\n",
        "loss = tf.keras.losses.SparseCategoricalCrossentropy(from_logits=True)\n",
        "metric = tf.keras.metrics.SparseCategoricalAccuracy('accuracy')\n",
        "\n",
        "model.compile(optimizer=optimizer, loss=loss, metrics=[metric])"
      ],
      "execution_count": 13,
      "outputs": []
    },
    {
      "cell_type": "code",
      "metadata": {
        "id": "ekRP6cC5ji4i",
        "colab_type": "code",
        "colab": {
          "base_uri": "https://localhost:8080/",
          "height": 202
        },
        "outputId": "143bb1bb-4b14-44f7-b581-3601fd6252ac"
      },
      "source": [
        "epochs = 2\n",
        "model.fit(ds_mini_train_encoded, epochs=epochs)\n",
        "#train_history = model.fit(ds_train_encoded, epochs=epochs, validation_data=ds_test_encoded)"
      ],
      "execution_count": 14,
      "outputs": [
        {
          "output_type": "stream",
          "text": [
            "Epoch 1/2\n",
            "WARNING:tensorflow:Gradients do not exist for variables ['tf_bert_model_1/bert/pooler/dense/kernel:0', 'tf_bert_model_1/bert/pooler/dense/bias:0'] when minimizing the loss.\n",
            "WARNING:tensorflow:Gradients do not exist for variables ['tf_bert_model_1/bert/pooler/dense/kernel:0', 'tf_bert_model_1/bert/pooler/dense/bias:0'] when minimizing the loss.\n",
            "WARNING:tensorflow:Gradients do not exist for variables ['tf_bert_model_1/bert/pooler/dense/kernel:0', 'tf_bert_model_1/bert/pooler/dense/bias:0'] when minimizing the loss.\n",
            "WARNING:tensorflow:Gradients do not exist for variables ['tf_bert_model_1/bert/pooler/dense/kernel:0', 'tf_bert_model_1/bert/pooler/dense/bias:0'] when minimizing the loss.\n",
            "3/3 [==============================] - 2s 518ms/step - loss: 0.6561 - accuracy: 0.6571\n",
            "Epoch 2/2\n",
            "3/3 [==============================] - 1s 350ms/step - loss: 0.6560 - accuracy: 0.6571\n"
          ],
          "name": "stdout"
        },
        {
          "output_type": "execute_result",
          "data": {
            "text/plain": [
              "<tensorflow.python.keras.callbacks.History at 0x7f04f7ac3b00>"
            ]
          },
          "metadata": {
            "tags": []
          },
          "execution_count": 14
        }
      ]
    }
  ]
}